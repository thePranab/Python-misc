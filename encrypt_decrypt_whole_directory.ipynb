{
 "cells": [
  {
   "cell_type": "code",
   "execution_count": 1,
   "metadata": {},
   "outputs": [
    {
     "name": "stdout",
     "output_type": "stream",
     "text": [
      "Enter encryption password: ········\n",
      "Please wait. Encrypting...\n",
      "Done!\n"
     ]
    }
   ],
   "source": [
    "import os\n",
    "from getpass import getpass\n",
    "from simplecrypt import encrypt, decrypt\n",
    "\n",
    "path = '.'\n",
    "\n",
    "# Remove any trailing '/'\n",
    "if(path[-1]=='/') :\n",
    "    path = path[:-1]\n",
    "\n",
    "# Get absolute path incase someone enters relative path \n",
    "path = os.path.abspath(path)\n",
    "\n",
    "# New directory name\n",
    "new_path = path + \"_enc\"\n",
    "\n",
    "password = getpass(\"Enter encryption password: \")\n",
    "print('Please wait. Encrypting...')\n",
    "\n",
    "for root, dirs, files in os.walk(path):  \n",
    "    \n",
    "    # Create the folder structure\n",
    "    if path in root:\n",
    "        try:\n",
    "            os.mkdir(root.replace(path, new_path))\n",
    "        except FileExistsError:\n",
    "            pass\n",
    "    \n",
    "    # Open, encrypt, and write each file        \n",
    "    if (files != []) : \n",
    "        for file in files: \n",
    "            file_path = root + '/' + file\n",
    "            fid = open(file_path, 'rb')\n",
    "            data = fid.read()\n",
    "            fid.close()\n",
    "            encdata = encrypt(password, data)\n",
    "            \n",
    "            # append file names with .enc prefix\n",
    "            new_file_path = file_path.replace(path, new_path) + '.enc'\n",
    "            fid = open(new_file_path, 'wb')\n",
    "            fid.write(encdata)\n",
    "            fid.close()\n",
    "\n",
    "print('Done!')"
   ]
  },
  {
   "cell_type": "code",
   "execution_count": 2,
   "metadata": {},
   "outputs": [
    {
     "name": "stdout",
     "output_type": "stream",
     "text": [
      "Enter decryption password: ········\n",
      "Please wait. Decrypting...\n",
      "Done!\n"
     ]
    }
   ],
   "source": [
    "import os\n",
    "from getpass import getpass\n",
    "from simplecrypt import encrypt, decrypt\n",
    "\n",
    "path = '../python_notes_enc/'\n",
    "\n",
    "# Remove any trailing '/'\n",
    "if(path[-1]=='/') :\n",
    "    path = path[:-1]\n",
    "\n",
    "# Get absolute path incase someone enters relative path \n",
    "path = os.path.abspath(path)\n",
    "\n",
    "# New directory name\n",
    "new_path = path + '_copy'\n",
    "\n",
    "password = getpass(\"Enter decryption password: \")\n",
    "print('Please wait. Decrypting...')\n",
    "    \n",
    "for root, dirs, files in os.walk(path):   \n",
    "    \n",
    "    # Create new folder structure\n",
    "    if path in root:\n",
    "        try:\n",
    "            os.mkdir(root.replace(path, new_path))\n",
    "        except FileExistsError:\n",
    "            pass\n",
    "    \n",
    "    # Open, decrypt, and save each file\n",
    "    if (files != []) : \n",
    "        for file in files: \n",
    "            file_path = root + '/' + file\n",
    "            fid = open(file_path, 'rb')\n",
    "            encdata = fid.read()\n",
    "            fid.close()\n",
    "            data = decrypt(password, encdata)\n",
    "            \n",
    "            # Remove the .enc prefix from file names\n",
    "            new_file_path = file_path.replace(path, new_path)[:-4]\n",
    "            fid = open(new_file_path, 'wb')\n",
    "            fid.write(data)\n",
    "            fid.close()\n",
    "\n",
    "print('Done!')"
   ]
  },
  {
   "cell_type": "code",
   "execution_count": null,
   "metadata": {},
   "outputs": [],
   "source": []
  }
 ],
 "metadata": {
  "kernelspec": {
   "display_name": "Python 3",
   "language": "python",
   "name": "python3"
  },
  "language_info": {
   "codemirror_mode": {
    "name": "ipython",
    "version": 3
   },
   "file_extension": ".py",
   "mimetype": "text/x-python",
   "name": "python",
   "nbconvert_exporter": "python",
   "pygments_lexer": "ipython3",
   "version": "3.7.4"
  }
 },
 "nbformat": 4,
 "nbformat_minor": 2
}
